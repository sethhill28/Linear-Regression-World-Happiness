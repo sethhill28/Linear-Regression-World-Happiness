{
 "cells": [
  {
   "cell_type": "markdown",
   "metadata": {},
   "source": [
    "# Linear Model "
   ]
  },
  {
   "cell_type": "markdown",
   "metadata": {},
   "source": [
    "This notebook will present the process of building a linear regression model to predict whether the citizens of a country will be happy or not based on the underlying conditions of said country with an overarching goal to answer the question: \"What makes people happy?\""
   ]
  },
  {
   "cell_type": "code",
   "execution_count": 1,
   "metadata": {},
   "outputs": [],
   "source": [
    "#Import libraries\n",
    "import pandas as pd\n",
    "import numpy as np\n",
    "import statsmodels.api as sm\n",
    "from statsmodels.stats.stattools import durbin_watson\n",
    "import seaborn as sns\n",
    "import matplotlib.pyplot as plt\n",
    "\n",
    "#read data\n",
    "df = pd.read_csv(\"Data\\clean_happiness_data.csv\")"
   ]
  },
  {
   "cell_type": "markdown",
   "metadata": {},
   "source": [
    "# Model Development\n",
    "Due to the strong correlations discovered during my exploratory data analysis, I chose to use forward selection when determining which predictor variables to use on my dependent variable of Happiness Score."
   ]
  },
  {
   "cell_type": "markdown",
   "metadata": {},
   "source": [
    "## Fit 1"
   ]
  },
  {
   "cell_type": "code",
   "execution_count": 2,
   "metadata": {},
   "outputs": [
    {
     "name": "stdout",
     "output_type": "stream",
     "text": [
      "                                 OLS Regression Results                                \n",
      "=======================================================================================\n",
      "Dep. Variable:        Happiness Score   R-squared (uncentered):                   0.920\n",
      "Model:                            OLS   Adj. R-squared (uncentered):              0.920\n",
      "Method:                 Least Squares   F-statistic:                              5429.\n",
      "Date:                Wed, 21 Oct 2020   Prob (F-statistic):                   5.56e-260\n",
      "Time:                        18:13:09   Log-Likelihood:                         -872.27\n",
      "No. Observations:                 470   AIC:                                      1747.\n",
      "Df Residuals:                     469   BIC:                                      1751.\n",
      "Df Model:                           1                                                  \n",
      "Covariance Type:            nonrobust                                                  \n",
      "==================================================================================\n",
      "                     coef    std err          t      P>|t|      [0.025      0.975]\n",
      "----------------------------------------------------------------------------------\n",
      "GDP Per Capita     5.1814      0.070     73.681      0.000       5.043       5.320\n",
      "==============================================================================\n",
      "Omnibus:                       11.271   Durbin-Watson:                   1.377\n",
      "Prob(Omnibus):                  0.004   Jarque-Bera (JB):               11.768\n",
      "Skew:                           0.381   Prob(JB):                      0.00278\n",
      "Kurtosis:                       2.854   Cond. No.                         1.00\n",
      "==============================================================================\n",
      "\n",
      "Warnings:\n",
      "[1] Standard Errors assume that the covariance matrix of the errors is correctly specified.\n"
     ]
    }
   ],
   "source": [
    "#Fit 1\n",
    "y = df[['Happiness Score']]\n",
    "x1 = df[['GDP Per Capita']]\n",
    "fit1 = sm.OLS(y, x1).fit()\n",
    "print(fit1.summary())"
   ]
  },
  {
   "cell_type": "markdown",
   "metadata": {},
   "source": [
    "I chose to begin with GDP Per Capita because it appeared to have the strongest correlation with Happiness Score, there also appeared to be a significant linear relationship between the two variables. This assumption proved to be a good starting point, with fit1 providing a decent R-Squared value of 0.92 and the coefficient for GDP Per Capita being signifcant at a 95% confidence level.\n",
    "\n",
    "*Note: The significance for all models in this project will be at a 95% confidence level."
   ]
  },
  {
   "cell_type": "markdown",
   "metadata": {},
   "source": [
    "## Fit 2"
   ]
  },
  {
   "cell_type": "code",
   "execution_count": 3,
   "metadata": {},
   "outputs": [
    {
     "name": "stdout",
     "output_type": "stream",
     "text": [
      "                                 OLS Regression Results                                \n",
      "=======================================================================================\n",
      "Dep. Variable:        Happiness Score   R-squared (uncentered):                   0.940\n",
      "Model:                            OLS   Adj. R-squared (uncentered):              0.940\n",
      "Method:                 Least Squares   F-statistic:                              3652.\n",
      "Date:                Wed, 21 Oct 2020   Prob (F-statistic):                   2.77e-286\n",
      "Time:                        18:13:09   Log-Likelihood:                         -806.90\n",
      "No. Observations:                 470   AIC:                                      1618.\n",
      "Df Residuals:                     468   BIC:                                      1626.\n",
      "Df Model:                           2                                                  \n",
      "Covariance Type:            nonrobust                                                  \n",
      "===================================================================================\n",
      "                      coef    std err          t      P>|t|      [0.025      0.975]\n",
      "-----------------------------------------------------------------------------------\n",
      "GDP Per Capita      2.3259      0.241      9.651      0.000       1.852       2.799\n",
      "Life Expectancy     4.7817      0.390     12.251      0.000       4.015       5.549\n",
      "==============================================================================\n",
      "Omnibus:                       15.374   Durbin-Watson:                   1.468\n",
      "Prob(Omnibus):                  0.000   Jarque-Bera (JB):               16.081\n",
      "Skew:                           0.450   Prob(JB):                     0.000322\n",
      "Kurtosis:                       3.113   Cond. No.                         8.69\n",
      "==============================================================================\n",
      "\n",
      "Warnings:\n",
      "[1] Standard Errors assume that the covariance matrix of the errors is correctly specified.\n"
     ]
    }
   ],
   "source": [
    "#Fit2\n",
    "x2 = df[['GDP Per Capita', 'Life Expectancy']]\n",
    "fit2 = sm.OLS(y, x2).fit()\n",
    "print(fit2.summary())"
   ]
  },
  {
   "cell_type": "markdown",
   "metadata": {},
   "source": [
    "I chose Life Expectancy to be my second variable because it wass the second most correlated variable with Happiness Score and also possessed a strong linear relationship."
   ]
  },
  {
   "cell_type": "markdown",
   "metadata": {},
   "source": [
    "## Fit 3"
   ]
  },
  {
   "cell_type": "code",
   "execution_count": 4,
   "metadata": {},
   "outputs": [
    {
     "name": "stdout",
     "output_type": "stream",
     "text": [
      "                                 OLS Regression Results                                \n",
      "=======================================================================================\n",
      "Dep. Variable:        Happiness Score   R-squared (uncentered):                   0.961\n",
      "Model:                            OLS   Adj. R-squared (uncentered):              0.961\n",
      "Method:                 Least Squares   F-statistic:                              5827.\n",
      "Date:                Wed, 21 Oct 2020   Prob (F-statistic):                        0.00\n",
      "Time:                        18:13:09   Log-Likelihood:                         -702.47\n",
      "No. Observations:                 470   AIC:                                      1409.\n",
      "Df Residuals:                     468   BIC:                                      1417.\n",
      "Df Model:                           2                                                  \n",
      "Covariance Type:            nonrobust                                                  \n",
      "==================================================================================\n",
      "                     coef    std err          t      P>|t|      [0.025      0.975]\n",
      "----------------------------------------------------------------------------------\n",
      "GDP Per Capita     2.1103      0.146     14.418      0.000       1.823       2.398\n",
      "Family             3.1850      0.143     22.270      0.000       2.904       3.466\n",
      "==============================================================================\n",
      "Omnibus:                        7.266   Durbin-Watson:                   1.252\n",
      "Prob(Omnibus):                  0.026   Jarque-Bera (JB):                7.189\n",
      "Skew:                           0.266   Prob(JB):                       0.0275\n",
      "Kurtosis:                       3.290   Cond. No.                         5.80\n",
      "==============================================================================\n",
      "\n",
      "Warnings:\n",
      "[1] Standard Errors assume that the covariance matrix of the errors is correctly specified.\n"
     ]
    }
   ],
   "source": [
    "#Fit 3\n",
    "x3 = df[['GDP Per Capita', 'Family']]\n",
    "fit3 = sm.OLS(y, x3).fit()\n",
    "print(fit3.summary())"
   ]
  },
  {
   "cell_type": "markdown",
   "metadata": {},
   "source": [
    "Upon further review of the correlation matrix I created in the previous notebook, I found that GDP Per Capita and Life Expectancy were highly correlated with each other, breaking one of the foundational assumptioptions of the linear regression model. Although I could not include it in my linear model, I found this to be an interesting relationship that I might explore further in future research.\n",
    "\n",
    "After dropping Life Expectancy and adding Family into my model (removing the multicollinearity), the accuracy of the model greatly improved, bumping the adjusted R-Squared up to 0.961."
   ]
  },
  {
   "cell_type": "markdown",
   "metadata": {},
   "source": [
    "## Fit 4"
   ]
  },
  {
   "cell_type": "code",
   "execution_count": 5,
   "metadata": {},
   "outputs": [
    {
     "name": "stdout",
     "output_type": "stream",
     "text": [
      "                                 OLS Regression Results                                \n",
      "=======================================================================================\n",
      "Dep. Variable:        Happiness Score   R-squared (uncentered):                   0.974\n",
      "Model:                            OLS   Adj. R-squared (uncentered):              0.974\n",
      "Method:                 Least Squares   F-statistic:                              5760.\n",
      "Date:                Wed, 21 Oct 2020   Prob (F-statistic):                        0.00\n",
      "Time:                        18:13:09   Log-Likelihood:                         -612.40\n",
      "No. Observations:                 470   AIC:                                      1231.\n",
      "Df Residuals:                     467   BIC:                                      1243.\n",
      "Df Model:                           3                                                  \n",
      "Covariance Type:            nonrobust                                                  \n",
      "==================================================================================\n",
      "                     coef    std err          t      P>|t|      [0.025      0.975]\n",
      "----------------------------------------------------------------------------------\n",
      "GDP Per Capita     1.7799      0.123     14.468      0.000       1.538       2.022\n",
      "Family             1.8862      0.147     12.802      0.000       1.597       2.176\n",
      "Freedom            4.1373      0.280     14.769      0.000       3.587       4.688\n",
      "==============================================================================\n",
      "Omnibus:                        0.561   Durbin-Watson:                   1.500\n",
      "Prob(Omnibus):                  0.755   Jarque-Bera (JB):                0.636\n",
      "Skew:                           0.079   Prob(JB):                        0.728\n",
      "Kurtosis:                       2.912   Cond. No.                         10.7\n",
      "==============================================================================\n",
      "\n",
      "Warnings:\n",
      "[1] Standard Errors assume that the covariance matrix of the errors is correctly specified.\n"
     ]
    }
   ],
   "source": [
    "x4 = df[['GDP Per Capita', 'Family', 'Freedom']]\n",
    "fit4 = sm.OLS(y, x4).fit()\n",
    "print(fit4.summary())"
   ]
  },
  {
   "cell_type": "markdown",
   "metadata": {},
   "source": [
    "Adding Freedom improved the model even more, nudging the adjusted R-Squared up to 0.974."
   ]
  },
  {
   "cell_type": "markdown",
   "metadata": {},
   "source": [
    "## Fit 5"
   ]
  },
  {
   "cell_type": "code",
   "execution_count": 6,
   "metadata": {},
   "outputs": [
    {
     "name": "stdout",
     "output_type": "stream",
     "text": [
      "                                 OLS Regression Results                                \n",
      "=======================================================================================\n",
      "Dep. Variable:        Happiness Score   R-squared (uncentered):                   0.976\n",
      "Model:                            OLS   Adj. R-squared (uncentered):              0.976\n",
      "Method:                 Least Squares   F-statistic:                              4819.\n",
      "Date:                Wed, 21 Oct 2020   Prob (F-statistic):                        0.00\n",
      "Time:                        18:13:09   Log-Likelihood:                         -586.86\n",
      "No. Observations:                 470   AIC:                                      1182.\n",
      "Df Residuals:                     466   BIC:                                      1198.\n",
      "Df Model:                           4                                                  \n",
      "Covariance Type:            nonrobust                                                  \n",
      "==================================================================================\n",
      "                     coef    std err          t      P>|t|      [0.025      0.975]\n",
      "----------------------------------------------------------------------------------\n",
      "GDP Per Capita     1.8567      0.117     15.854      0.000       1.627       2.087\n",
      "Family             1.7234      0.141     12.183      0.000       1.445       2.001\n",
      "Freedom            3.0901      0.302     10.241      0.000       2.497       3.683\n",
      "Generosity         2.2181      0.303      7.315      0.000       1.622       2.814\n",
      "==============================================================================\n",
      "Omnibus:                        1.039   Durbin-Watson:                   1.549\n",
      "Prob(Omnibus):                  0.595   Jarque-Bera (JB):                1.120\n",
      "Skew:                          -0.070   Prob(JB):                        0.571\n",
      "Kurtosis:                       2.807   Cond. No.                         14.2\n",
      "==============================================================================\n",
      "\n",
      "Warnings:\n",
      "[1] Standard Errors assume that the covariance matrix of the errors is correctly specified.\n"
     ]
    }
   ],
   "source": [
    "#Fit5 \n",
    "x5 = df[['GDP Per Capita', 'Family', 'Freedom', 'Generosity']]\n",
    "fit5 = sm.OLS(y, x5).fit()\n",
    "print(fit5.summary())"
   ]
  },
  {
   "cell_type": "markdown",
   "metadata": {},
   "source": [
    "The addition of Generosity provided little value to the accuracy of the model, and in order to maintain the balance between simplicity and accuracy I chose to keep Fit 4 as my final model."
   ]
  },
  {
   "cell_type": "markdown",
   "metadata": {},
   "source": [
    "# Stress Testing the Final Model: Fit 4\n",
    "At a glance, Fit 4 appears to be a strong model. Being able to predict the variance of Happiness Score ~ 97.4% of the time at a 95% confidence level. But can it surive after testing it using the five assumptions of the classic OLS Model?"
   ]
  },
  {
   "cell_type": "markdown",
   "metadata": {},
   "source": [
    "## Calculating Residuals\n",
    "Before testing the assumptions, I wrote a function to calculate the residuals of the model since many of the assumptions are based off the models reisduals. The data frame containing the actual, predicted, and reisudal values of the model will also come in handy when testing the other asusmptions."
   ]
  },
  {
   "cell_type": "code",
   "execution_count": 7,
   "metadata": {},
   "outputs": [],
   "source": [
    "def calculate_residuals(model, features, dependent):\n",
    "    '''Creates predictions based on features and dependent variable then \n",
    "        calculates residuals\n",
    "    '''\n",
    "    predictions = model.predict()\n",
    "    results = pd.DataFrame()\n",
    "    results = results.append(y)\n",
    "    results.rename(columns = {'Happiness Score': 'Actual'}, inplace = True)\n",
    "    results['Predicted'] = predictions\n",
    "    results['Residuals'] = model.resid\n",
    "    \n",
    "    return results "
   ]
  },
  {
   "cell_type": "markdown",
   "metadata": {},
   "source": [
    "Here is a snippet of what that dataframe looks like."
   ]
  },
  {
   "cell_type": "code",
   "execution_count": 8,
   "metadata": {},
   "outputs": [
    {
     "data": {
      "text/html": [
       "<div>\n",
       "<style scoped>\n",
       "    .dataframe tbody tr th:only-of-type {\n",
       "        vertical-align: middle;\n",
       "    }\n",
       "\n",
       "    .dataframe tbody tr th {\n",
       "        vertical-align: top;\n",
       "    }\n",
       "\n",
       "    .dataframe thead th {\n",
       "        text-align: right;\n",
       "    }\n",
       "</style>\n",
       "<table border=\"1\" class=\"dataframe\">\n",
       "  <thead>\n",
       "    <tr style=\"text-align: right;\">\n",
       "      <th></th>\n",
       "      <th>Actual</th>\n",
       "      <th>Predicted</th>\n",
       "      <th>Residuals</th>\n",
       "    </tr>\n",
       "  </thead>\n",
       "  <tbody>\n",
       "    <tr>\n",
       "      <th>0</th>\n",
       "      <td>7.587</td>\n",
       "      <td>7.784756</td>\n",
       "      <td>-0.197756</td>\n",
       "    </tr>\n",
       "    <tr>\n",
       "      <th>1</th>\n",
       "      <td>7.561</td>\n",
       "      <td>7.564292</td>\n",
       "      <td>-0.003292</td>\n",
       "    </tr>\n",
       "    <tr>\n",
       "      <th>2</th>\n",
       "      <td>7.527</td>\n",
       "      <td>7.612225</td>\n",
       "      <td>-0.085225</td>\n",
       "    </tr>\n",
       "    <tr>\n",
       "      <th>3</th>\n",
       "      <td>7.522</td>\n",
       "      <td>7.878188</td>\n",
       "      <td>-0.356188</td>\n",
       "    </tr>\n",
       "    <tr>\n",
       "      <th>4</th>\n",
       "      <td>7.427</td>\n",
       "      <td>7.474156</td>\n",
       "      <td>-0.047156</td>\n",
       "    </tr>\n",
       "  </tbody>\n",
       "</table>\n",
       "</div>"
      ],
      "text/plain": [
       "   Actual  Predicted  Residuals\n",
       "0   7.587   7.784756  -0.197756\n",
       "1   7.561   7.564292  -0.003292\n",
       "2   7.527   7.612225  -0.085225\n",
       "3   7.522   7.878188  -0.356188\n",
       "4   7.427   7.474156  -0.047156"
      ]
     },
     "execution_count": 8,
     "metadata": {},
     "output_type": "execute_result"
    }
   ],
   "source": [
    "calculate_residuals(fit4, x4, y).head()"
   ]
  },
  {
   "cell_type": "markdown",
   "metadata": {},
   "source": [
    "Once I calculated and stored these basic values, I began to test my assumptions."
   ]
  },
  {
   "cell_type": "markdown",
   "metadata": {},
   "source": [
    "## Assumption 1: Linear Relationship Between Independent and Depedent Variables"
   ]
  },
  {
   "cell_type": "code",
   "execution_count": 9,
   "metadata": {},
   "outputs": [],
   "source": [
    "def linear_assumption(model, features, dependent):\n",
    "    '''Checks linear assumption of liinear regression by comparing actual\n",
    "        vs predicted values\n",
    "    '''\n",
    "    #Calculate residuals for regression\n",
    "    results = calculate_residuals(model, features, dependent)\n",
    "    \n",
    "    #Plot actual vs predicted\n",
    "    sns.lmplot(x = 'Actual', y = 'Predicted', data = results, fit_reg=False, height = 7)\n",
    "    \n",
    "    #Plot regression line\n",
    "    line_coords = np.arange(results.min().min(), results.max().max())\n",
    "    plt.plot(line_coords, line_coords, color = 'red', linestyle = '--')\n",
    "    plt.title('Actual vs. predicted')\n",
    "    plt.show()"
   ]
  },
  {
   "cell_type": "code",
   "execution_count": 10,
   "metadata": {},
   "outputs": [
    {
     "data": {
      "image/png": "[encoded data removed]",
      "text/plain": [
       "<Figure size 504x504 with 1 Axes>"
      ]
     },
     "metadata": {
      "needs_background": "light"
     },
     "output_type": "display_data"
    }
   ],
   "source": [
    "linear_assumption(fit4, x4, y)"
   ]
  },
  {
   "cell_type": "markdown",
   "metadata": {},
   "source": [
    "It appears that this assumption is satisfied. Although the reiduals have some spread about the regression line, this spread looks linear and fairly parallel to the fitted regression line."
   ]
  },
  {
   "cell_type": "markdown",
   "metadata": {},
   "source": [
    "## Assumption 2: Normal Errors"
   ]
  },
  {
   "cell_type": "code",
   "execution_count": 11,
   "metadata": {},
   "outputs": [],
   "source": [
    "def normal_errors(model, features, dependent):\n",
    "    '''Checks for normal distribution of error terms via histogram\n",
    "    '''\n",
    "    #Calulate Residuals for regression\n",
    "    results = calculate_residuals(model, features, dependent)\n",
    "    p1 = plt.figure()\n",
    "    sns.distplot(results['Residuals'], color = 'blue')"
   ]
  },
  {
   "cell_type": "code",
   "execution_count": 12,
   "metadata": {},
   "outputs": [
    {
     "data": {
      "image/png": "[encoded data removed]",
      "text/plain": [
       "<Figure size 432x288 with 1 Axes>"
      ]
     },
     "metadata": {
      "needs_background": "light"
     },
     "output_type": "display_data"
    }
   ],
   "source": [
    "#Check for normal errors for fit4\n",
    "normal_errors(fit4, x4, y)"
   ]
  },
  {
   "cell_type": "markdown",
   "metadata": {},
   "source": [
    "This assumption checks out strongly, with the residuals following a nearly perfectly Gaussian Distribution."
   ]
  },
  {
   "cell_type": "markdown",
   "metadata": {},
   "source": [
    "## Assumption 3: No Multicollinearity Among Predictors"
   ]
  },
  {
   "cell_type": "code",
   "execution_count": 13,
   "metadata": {},
   "outputs": [],
   "source": [
    "def multicollinearity_check(features):\n",
    "    '''Correlation matrix to verfity there is no multicollinearity among\n",
    "        the predicotors of the model\n",
    "    '''\n",
    "    \n",
    "    corr_matrix = features.corr()\n",
    "    f,ax = plt.subplots(figsize=(8, 8))\n",
    "    sns.heatmap(corr_matrix, annot=True, linewidths=.5)"
   ]
  },
  {
   "cell_type": "code",
   "execution_count": 14,
   "metadata": {},
   "outputs": [
    {
     "data": {
      "image/png": "[encoded data removed]",
      "text/plain": [
       "<Figure size 576x576 with 2 Axes>"
      ]
     },
     "metadata": {
      "needs_background": "light"
     },
     "output_type": "display_data"
    }
   ],
   "source": [
    "#check for multicollinearity in fit4\n",
    "multicollinearity_check(x4)"
   ]
  },
  {
   "cell_type": "markdown",
   "metadata": {},
   "source": [
    "I had a preliminary check for this assumption when develping the model but its always better to be safe the sorry. The highest amount of correlation among the predictors is between Family and GDP Per Capita although it is still below the threshold of 0.70."
   ]
  },
  {
   "cell_type": "markdown",
   "metadata": {},
   "source": [
    "## Assumption 4: No Autocorrelation Among Error Terms"
   ]
  },
  {
   "cell_type": "code",
   "execution_count": 15,
   "metadata": {},
   "outputs": [],
   "source": [
    "def auto_correlation_check(model, low_thresh = 1.5, high_thresh  = 2.5):\n",
    "    '''Tests for autocorreltion using the Durbin Watson test. Test values \n",
    "        between 1.5 and 2.5 are relatively normal\n",
    "    '''\n",
    "    \n",
    "    test = durbin_watson(model.resid)\n",
    "    if test >= low_thresh and test <= high_thresh:\n",
    "        print('Assumption verified.\\n Durbin Watson test statistic =', test)\n",
    "    else:\n",
    "        print('Autocorrrelation present among error terms.')"
   ]
  },
  {
   "cell_type": "code",
   "execution_count": 16,
   "metadata": {},
   "outputs": [
    {
     "name": "stdout",
     "output_type": "stream",
     "text": [
      "Assumption verified.\n",
      " Durbin Watson test statistic = 1.500067910952225\n"
     ]
    }
   ],
   "source": [
    "#check for autocorrelation in fit4\n",
    "auto_correlation_check(fit4)"
   ]
  },
  {
   "cell_type": "markdown",
   "metadata": {},
   "source": [
    "The Durbin-Watson test for auto correlation among error terms is based off the assumption that each observation is observed at equally spaced time periods. Since the datasets that were concatenated during the data preperation process were from three consectutive years, I found that the Durbin-Wtason test would be a good fit to test for auto correlation among the error terms of this model. I also ran followed the rule of thumb that test statistic values for the Durbin-Watson test that are within the range of 1.5 and 2.5 are considered to be relatively normal, although these thresholds can be changed within the arguments of the above function. With a test statistic of 1.500006 my model verifies the assumption of no autocorrelation among error terms."
   ]
  },
  {
   "cell_type": "markdown",
   "metadata": {},
   "source": [
    "## Assumption 5: Homoscedasticity among error terms"
   ]
  },
  {
   "cell_type": "code",
   "execution_count": 17,
   "metadata": {},
   "outputs": [],
   "source": [
    "def homoscedasticity_check(model, features, label):\n",
    "    \"\"\"\n",
    "    Homoscedasticity: Assumes that the errors exhibit constant variance\n",
    "    \"\"\"\n",
    "     \n",
    "    # Calculating residuals for the plot\n",
    "    df_results = calculate_residuals(model, features, label)\n",
    "\n",
    "    # Plotting the residuals\n",
    "    plt.subplots(figsize=(12, 6))\n",
    "    plt.scatter(x=df_results.index, y=df_results.Residuals, alpha=0.5)\n",
    "    plt.plot(np.repeat(0, df_results.index.max()), color='red', linestyle='--')\n",
    "    plt.title('Scatter Plot of Residuals')\n",
    "    plt.show()"
   ]
  },
  {
   "cell_type": "code",
   "execution_count": 18,
   "metadata": {},
   "outputs": [
    {
     "data": {
      "image/png": "[encoded data removed]",
      "text/plain": [
       "<Figure size 864x432 with 1 Axes>"
      ]
     },
     "metadata": {
      "needs_background": "light"
     },
     "output_type": "display_data"
    }
   ],
   "source": [
    "#check for homoscedasticity in fit4\n",
    "homoscedasticity_check(fit4, x4, y)"
   ]
  },
  {
   "cell_type": "markdown",
   "metadata": {},
   "source": [
    "The plot above shows that the residuals appear fairly uniform around zero, they do exhbit a slight parabolic curve but I believe the petiteness of this variance from normal should not cause a problem in verifying this assumption."
   ]
  },
  {
   "cell_type": "markdown",
   "metadata": {},
   "source": [
    "# Summary\n",
    "It appears that the main factors that contribute to an individuals happiness are the GDP Per Capita of the country they are living in, the quality of said person's family, and the amount of freedom they have. So, if you're feeling down, move to a free country with with a strong economy, and improve your relationships within your family."
   ]
  },
  {
   "cell_type": "code",
   "execution_count": null,
   "metadata": {},
   "outputs": [],
   "source": []
  }
 ],
 "metadata": {
  "kernelspec": {
   "display_name": "Python 3",
   "language": "python",
   "name": "python3"
  },
  "language_info": {
   "codemirror_mode": {
    "name": "ipython",
    "version": 3
   },
   "file_extension": ".py",
   "mimetype": "text/x-python",
   "name": "python",
   "nbconvert_exporter": "python",
   "pygments_lexer": "ipython3",
   "version": "3.7.6"
  }
 },
 "nbformat": 4,
 "nbformat_minor": 4
}
